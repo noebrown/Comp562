{
 "cells": [
  {
   "cell_type": "markdown",
   "id": "395a0aab",
   "metadata": {},
   "source": [
    "# Homework 4: Perceptrons and Deep Learning [25 pts]\n",
    "## Comp562 Summer II 2023\n",
    "\n",
    "### Due 11:59pm July 25, 2023\n",
    "\n",
    "In this assignment, you will use the perceptron and deep learning models discussed in class and experiment with some toy data. To avoid unexpected behavior with cached variables, always test your code with a fresh kernel. For hardware acceleration, use Colab with GPU enabled.\n",
    "\n",
    "### Problem 1: Perceptron and MLP Model [5 pts]\n",
    "**(1a)** Compare and contrast the perceptron model with SVM and linear regression. [3 pts]"
   ]
  },
  {
   "cell_type": "markdown",
   "id": "6d431956",
   "metadata": {},
   "source": [
    "The linear regression models the relationship between input features and the target  variable. Linear regression uses residuals to predict values. Least squared optimization is used to find the optimal linear equation. Linear regression is better for discrete class labels instead of classification task. \n",
    "\n",
    "Support vector machine uses a hyperplane to maximize the minimum distance between a point and hyperplane. SVM can handle non-linearly and linearly seperable data. SVM is used for classification and regression. \n",
    "\n",
    "The perceptron model learns decision boundaries based on iretaively upadting the weight of input features based on misclassification errors. The perceptron model works best on linearly seperable data (it makes the assumption the data is linearly seperable). The perceptron model is used for classification task."
   ]
  },
  {
   "cell_type": "markdown",
   "id": "7cd5881f",
   "metadata": {},
   "source": [
    "**(1b)** What is the purpose of nonlinear activations? [2 pts]"
   ]
  },
  {
   "cell_type": "markdown",
   "id": "d91de076",
   "metadata": {},
   "source": [
    "Nonlinear activations expand neural network capabilities by enabling the modeling of nonlinear realationships."
   ]
  },
  {
   "cell_type": "markdown",
   "id": "8f0c4064",
   "metadata": {},
   "source": [
    "### Problem 2: LSTM [10 pts]\n",
    "**(2a)** Why are long-term dependencies hard to model with standard recurrent neural networks? [2 pts]"
   ]
  },
  {
   "cell_type": "markdown",
   "id": "8d918584",
   "metadata": {},
   "source": [
    "Long-term dependencies are hard to model with standard recurrent neural networks because gradients either go to zero or go to infinity. As a result, it doesn't effectively update parameters to learn long-range dependencies. "
   ]
  },
  {
   "cell_type": "markdown",
   "id": "ad0d6cd9",
   "metadata": {},
   "source": [
    "**(2b)** Submit your modified sonnet generation code in a separate Gradescope assignment [4 pts]. (Completion, no answer required here.)\n",
    "\n",
    "The following questions relate to your sonnet generation model.\n",
    "\n",
    "**(2c)** Justify your choice of model architectures and the changes you made to the model architecture from the provided code. [2 pts]"
   ]
  },
  {
   "cell_type": "markdown",
   "id": "de58d8c7",
   "metadata": {},
   "source": [
    "For this model I did hyperparameter/parameter changes. I didn't directlly alter the model architecture. I made changes to the dropout rate, batch size, sequence length, and epochs. Differences to the "
   ]
  },
  {
   "cell_type": "markdown",
   "id": "d1274730",
   "metadata": {},
   "source": [
    "**(2d)** Jusify any other changes you made to the sonnet generation code. [1 pt]"
   ]
  },
  {
   "cell_type": "markdown",
   "id": "28d1f408",
   "metadata": {},
   "source": [
    "- I lowered the dropout rate to .3,a higher dropout rate increases variance. I figured a lower dropout rate would increase the models ability to fit properly.\n",
    "- I reduced the batch_size to 64,this reduces the samples to calculate the loss in each iteration. I mostly did this to reduce training time. \n",
    "- I reduced the seq_length to 50, In my test it seemed that the shorter sequences performed better with my other parameters.\n",
    "- I increased the n_epochs to 50, I did this by trial and error and saw what epocj size fit the the best."
   ]
  },
  {
   "cell_type": "markdown",
   "id": "07c66bbe",
   "metadata": {},
   "source": [
    "**(2e)** Analyze the sample sonnets generated from your model. Are they realistic? Given unlimited computing power, what modifications would you make to improve their quality? [1 pt]"
   ]
  },
  {
   "cell_type": "markdown",
   "id": "09a21cc0",
   "metadata": {},
   "source": [
    "The sample sonnet I gennerated is semi-realistic aside from some words that aren't english/old english. It follows the look of a sonnet and the stylistic text of a sonnet. "
   ]
  },
  {
   "cell_type": "markdown",
   "id": "bf03222b",
   "metadata": {},
   "source": [
    "### Problem 3: Convolutional Neural Networks [10 pts]\n",
    "\n",
    "**(3a)** Load the torchvision [CIFAR10 dataset](https://pytorch.org/vision/stable/generated/torchvision.datasets.CIFAR10.html#torchvision.datasets.CIFAR10). Design and train a model to perform 10-class classification on this dataset. Implementations that use models loaded from torch hub will not recieve full credit. Your model should improve over a baseline accuracy of 40%. [6 pts]"
   ]
  },
  {
   "cell_type": "code",
   "execution_count": 13,
   "id": "9c2bd098",
   "metadata": {},
   "outputs": [
    {
     "name": "stdout",
     "output_type": "stream",
     "text": [
      "Files already downloaded and verified\n",
      "Files already downloaded and verified\n",
      "Epoch 1 - Train Loss: 1.8741, Val Loss: 1.6229\n",
      "Epoch 2 - Train Loss: 1.5260, Val Loss: 1.4455\n",
      "Epoch 3 - Train Loss: 1.3912, Val Loss: 1.3432\n",
      "Epoch 4 - Train Loss: 1.2945, Val Loss: 1.2693\n",
      "Epoch 5 - Train Loss: 1.2147, Val Loss: 1.1968\n",
      "Epoch 6 - Train Loss: 1.1440, Val Loss: 1.1367\n",
      "Epoch 7 - Train Loss: 1.0821, Val Loss: 1.0900\n",
      "Epoch 8 - Train Loss: 1.0332, Val Loss: 1.0523\n",
      "Epoch 9 - Train Loss: 0.9885, Val Loss: 1.0242\n",
      "Epoch 10 - Train Loss: 0.9568, Val Loss: 0.9877\n",
      "Completed Training\n"
     ]
    }
   ],
   "source": [
    "import torch\n",
    "import torchvision\n",
    "import torch.nn as nn\n",
    "import torch.optim as optim\n",
    "import torch.nn.functional as F\n",
    "import torchvision.transforms as transforms\n",
    "\n",
    "'''\n",
    "References:\n",
    "https://flower.dev/docs/framework/example-pytorch-from-centralized-to-federated.html\n",
    "https://machinelearningmastery.com/building-a-convolutional-neural-network-in-pytorch/\n",
    "'''\n",
    "\n",
    "#Transformation using: https://www.geeksforgeeks.org/how-to-normalize-images-in-pytorch/\n",
    "transform = transforms.Compose([\n",
    "    transforms.ToTensor(),  \n",
    "    transforms.Normalize((0.5, 0.5, 0.5), (0.5, 0.5, 0.5)), \n",
    "])\n",
    "\n",
    "#Load data using: https://www.datascienceweekly.org/tutorials/cifar10-pytorch-load-cifar10-dataset-from-torchvision\n",
    "trainloader = torch.utils.data.DataLoader(\n",
    "    torchvision.datasets.CIFAR10(root='./data', train=True, download=True, transform=transform),\n",
    "    batch_size=128, shuffle=True\n",
    ")\n",
    "\n",
    "testloader = torch.utils.data.DataLoader(\n",
    "    torchvision.datasets.CIFAR10(root='./data', train=False, download=True, transform=transform),\n",
    "    batch_size=128, shuffle=False\n",
    ")\n",
    "\n",
    "#CNN for classification\n",
    "class Classifier(nn.Module):\n",
    "    def __init__(self):\n",
    "        super(Classifier, self).__init__()\n",
    "        self.conv1 = nn.Conv2d(3, 32, 3, padding=1)\n",
    "        self.bn1 = nn.BatchNorm2d(32)\n",
    "        self.conv2 = nn.Conv2d(32, 64, 3, padding=1)\n",
    "        self.bn2 = nn.BatchNorm2d(64)\n",
    "        self.conv3 = nn.Conv2d(64, 128, 3, padding=1)\n",
    "        self.bn3 = nn.BatchNorm2d(128)\n",
    "        self.relu = nn.ReLU()\n",
    "        self.pool = nn.MaxPool2d(2, 2)\n",
    "        self.fc1 = nn.Linear(128 * 4 * 4, 512)\n",
    "        self.fc2 = nn.Linear(512, 10)\n",
    "        self.dropout = nn.Dropout(0.3)\n",
    "\n",
    "    def forward(self, x):\n",
    "        x = self.pool(self.relu(self.bn1(self.conv1(x))))\n",
    "        x = self.pool(self.relu(self.bn2(self.conv2(x))))\n",
    "        x = self.pool(self.relu(self.bn3(self.conv3(x))))\n",
    "        x = x.view(-1, 128 * 4 * 4)\n",
    "        x = self.dropout(self.relu(self.fc1(x)))\n",
    "        x = self.fc2(x)\n",
    "        return x\n",
    "\n",
    "#GPU tutorial: https://wandb.ai/wandb/common-ml-errors/reports/How-To-Use-GPU-with-PyTorch---VmlldzozMzAxMDk\n",
    "device = torch.device(\"cuda\" if torch.cuda.is_available() else \"cpu\")\n",
    "model = Classifier().to(device)\n",
    "criterion = nn.CrossEntropyLoss()\n",
    "optimizer = optim.SGD(model.parameters(), lr=0.001, momentum=0.7)\n",
    "\n",
    "#Train model\n",
    "num_epochs = 10\n",
    "train_loss = []\n",
    "val_loss = []\n",
    "\n",
    "for epoch in range(num_epochs):\n",
    "    running_train_loss = 0.0\n",
    "    for i, data in enumerate(trainloader, 0):\n",
    "        inputs = data[0].to(device) \n",
    "        labels = data[1].to(device)\n",
    "\n",
    "        optimizer.zero_grad()\n",
    "        loss = criterion(model(inputs), labels)\n",
    "        loss.backward()\n",
    "        optimizer.step()\n",
    "        running_train_loss += loss.item()\n",
    "\n",
    "\n",
    "    #Avg loss ~ Al\n",
    "    avg_tl = running_train_loss / len(trainloader)\n",
    "    train_loss.append(avg_tl)\n",
    "\n",
    "    #Val loss ~ Vl\n",
    "    with torch.no_grad():\n",
    "      running_vl = sum(criterion(model(images.to(device)), labels.to(device)).item() for images, labels in testloader)\n",
    "\n",
    "    #Calculate avg Vl for each epoch\n",
    "    avg_vl = running_vl / len(testloader)\n",
    "    val_loss.append(avg_vl)\n",
    "\n",
    "    print(f\"Epoch {epoch + 1} - Train Loss: {avg_tl:.4f}, Val Loss: {avg_vl:.4f}\")\n",
    "print(\"Completed Training\")"
   ]
  },
  {
   "cell_type": "markdown",
   "id": "4c9feeb5",
   "metadata": {},
   "source": [
    "**(3b)** Plot your training and validation losses. (Hint: provided code demonstrates usage of labels in plt plotting. You will likely want to modify the plotting function to scale validation appropriately.) [1 pt]"
   ]
  },
  {
   "cell_type": "code",
   "execution_count": 14,
   "id": "ca9f955d",
   "metadata": {
    "scrolled": true
   },
   "outputs": [
    {
     "data": {
      "image/png": "[encoded data removed]",
      "text/plain": [
       "<Figure size 432x288 with 1 Axes>"
      ]
     },
     "metadata": {
      "needs_background": "light"
     },
     "output_type": "display_data"
    }
   ],
   "source": [
    "import matplotlib.pyplot as plt\n",
    "\n",
    "# TODO: track losses for plotting\n",
    "plt.figure()\n",
    "plt.plot(train_loss, label='Train', color=\"red\")\n",
    "plt.plot(val_loss, label='Validation', color=\"purple\")\n",
    "plt.xlabel('Epoch')\n",
    "plt.ylabel('Loss')\n",
    "plt.legend()\n",
    "plt.show()"
   ]
  },
  {
   "cell_type": "markdown",
   "id": "6db1caf7",
   "metadata": {},
   "source": [
    "**(3c)** Evaluate your model on the test partition. [1 pt]"
   ]
  },
  {
   "cell_type": "code",
   "execution_count": 15,
   "id": "adfa32b1",
   "metadata": {},
   "outputs": [
    {
     "name": "stdout",
     "output_type": "stream",
     "text": [
      "Accuracy: 65.56%\n"
     ]
    }
   ],
   "source": [
    "# TODO: test partition evaluation\n",
    "correct, total = 0, 0\n",
    "\n",
    "with torch.no_grad():\n",
    "    correct += sum((torch.max(model(images), 1)[1] == labels).sum().item() for images, labels in testloader)\n",
    "    total += len(testloader.dataset)\n",
    "\n",
    "accuracy = 100 * correct / total\n",
    "print(f\"Accuracy: {accuracy:.2f}%\")"
   ]
  },
  {
   "cell_type": "markdown",
   "id": "35072ea2",
   "metadata": {},
   "source": [
    "**(3d)** Justify your choice of model architecture. [2 pts]"
   ]
  },
  {
   "cell_type": "markdown",
   "id": "3c971eca",
   "metadata": {},
   "source": [
    "- Used this resource: https://pyimagesearch.com/2021/07/19/pytorch-training-your-first-convolutional-neural-network-cnn/\n",
    "- I have three convolutional layers\n",
    "    - I tested two verse three convolutional layers and three convolutional layers performed better. (I assume this because more convolutional layers could capture more hierarchical features)\n",
    "    - A batch normalization is after each convolutional layer. The batch normalization normalizes activation in each mini-batch\n",
    "- I added a ReLU activation to add non-linearity to the model (If the model is non-linear then the ReLU captures more complex patterns)\n",
    "    - Max pooling is applied to each ReLU activation to downsample the data and \"speed up\" the model. \n",
    "- Fully connected layers (Added these because of this article I read: https://medium.com/@media.deepneuron/training-series-3-b2cb53411e4c)\n",
    "- I added a dropout layer that regularlizes the neural network by setting neurons to zero. (I tested 0.3, 0.5, and 0.8 as probabilities and 0.3 performed the best)"
   ]
  }
 ],
 "metadata": {
  "kernelspec": {
   "display_name": "Python 3 (ipykernel)",
   "language": "python",
   "name": "python3"
  },
  "language_info": {
   "codemirror_mode": {
    "name": "ipython",
    "version": 3
   },
   "file_extension": ".py",
   "mimetype": "text/x-python",
   "name": "python",
   "nbconvert_exporter": "python",
   "pygments_lexer": "ipython3",
   "version": "3.9.12"
  }
 },
 "nbformat": 4,
 "nbformat_minor": 5
}
