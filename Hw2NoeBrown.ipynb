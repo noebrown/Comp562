{
 "cells": [
  {
   "cell_type": "markdown",
   "id": "36624c2c",
   "metadata": {},
   "source": [
    "# Homework 2: Regression and Ensemble Methods [25 pts]\n",
    "## Comp562 Summer II 2023\n",
    "\n",
    "### Due 11:59pm July 10, 2023\n",
    "\n",
    "In this assignment, you will use the regression and ensemble algorithms discussed in class and experiment with some toy data. To avoid unexpected behavior with cached variables, test your code with a fresh kernel."
   ]
  },
  {
   "cell_type": "markdown",
   "id": "bdd16c9b",
   "metadata": {},
   "source": [
    "### Problem 1: Regression [9 pts]\n",
    "\n",
    "Use the dataset provided in `hw2_train_regression.csv` for this problem. Data has shape \\[N,2\\] where the last column is the sample label.\n",
    "\n",
    "**(1a)** Use the linear regression formulation derived in class to compute a best-fitting line to the data. Compute and print the mean squared error on the training data. [3 pts] (Hint: use [np.matmul()](https://numpy.org/doc/stable/reference/generated/numpy.matmul.html) and [np.linalg.inv()](https://numpy.org/doc/stable/reference/generated/numpy.linalg.inv.html) for matrix operations.)"
   ]
  },
  {
   "cell_type": "code",
   "execution_count": 94,
   "id": "ef16b97c",
   "metadata": {
    "scrolled": true
   },
   "outputs": [
    {
     "name": "stdout",
     "output_type": "stream",
     "text": [
      "mean squared error: 0.22022621525288605\n"
     ]
    }
   ],
   "source": [
    "import os\n",
    "import numpy as np\n",
    "import matplotlib.pyplot as plt\n",
    "from sklearn.linear_model import LinearRegression, LogisticRegression\n",
    "\n",
    "fn = 'hw2_train_regression.csv'\n",
    "train_data = np.genfromtxt(fn, delimiter=',')\n",
    "X = train_data[:,:-1]\n",
    "y = train_data[:,-1].reshape((-1,1))\n",
    "\n",
    "# TODO: find linear regression\n",
    "X = np.insert(X, 0, 1, axis=1)\n",
    "X_t = X.T\n",
    "X_t_X_inv = np.linalg.inv(X_t @ X)\n",
    "weights = X_t_X_inv @ X_t @ y\n",
    "\n",
    "# compute MSE\n",
    "y_pred = X @ weights\n",
    "mse = np.mean((y - y_pred) ** 2)\n",
    "print(f'mean squared error: {mse}')"
   ]
  },
  {
   "cell_type": "markdown",
   "id": "7e642b2f",
   "metadata": {},
   "source": [
    "**(1b)** We will now rescale the data to model a probability distribution. Use logistic regression to compute a best-fitting sigmoid to the rescaled data. Compute and print the mean squared error on the training data. [3 pts]"
   ]
  },
  {
   "cell_type": "code",
   "execution_count": 96,
   "id": "ca9e1f3e",
   "metadata": {},
   "outputs": [
    {
     "name": "stdout",
     "output_type": "stream",
     "text": [
      "log_w: 0.22373022910346999\n",
      "logistic error: 0.04704\n"
     ]
    }
   ],
   "source": [
    "from scipy.optimize import minimize_scalar\n",
    "import numpy as np\n",
    "\n",
    "y_prob = y - np.amin(y)\n",
    "y_prob = y_prob / np.amax(y_prob)\n",
    "\n",
    "# TODO: write energy function\n",
    "def energy(w):\n",
    "    return np.mean((sigmoidfunc(np.dot(X, w)) - y_prob) ** 2)\n",
    "\n",
    "def sigmoidfunc(x):\n",
    "    return 1 / (1 + np.exp(-x))\n",
    "\n",
    "result = minimize_scalar(energy)\n",
    "log_w = result.x\n",
    "print(f'log_w: {log_w}')\n",
    "\n",
    "# compute MSE\n",
    "y_pred = sigmoidfunc(np.dot(X, log_w))\n",
    "log_error = np.mean((y_prob - y_pred) ** 2)\n",
    "print(f'logistic error: {log_error:>0.4}')"
   ]
  },
  {
   "cell_type": "markdown",
   "id": "605bce56",
   "metadata": {},
   "source": [
    "**(1c)** Plot the results of both regressions. Explain any differences you observe in the plots and training error you computed. [3 pts]"
   ]
  },
  {
   "cell_type": "code",
   "execution_count": 104,
   "id": "5ba2dddc",
   "metadata": {},
   "outputs": [
    {
     "data": {
      "image/png": "[encoded data removed]",
      "text/plain": [
       "<Figure size 864x432 with 2 Axes>"
      ]
     },
     "metadata": {
      "needs_background": "light"
     },
     "output_type": "display_data"
    }
   ],
   "source": [
    "plt.figure(figsize=(12,6))\n",
    "# TODO: plot function at each X[:,0]\n",
    "\n",
    "#I plotted them at X[:,1] instead of X[:,0]\n",
    "#Not sure if you meant that literally or not \n",
    "\n",
    "#Linear Regression\n",
    "plt.subplot(121)\n",
    "plt.scatter(X[:, 1], y)\n",
    "plt.plot(X[:, 1], np.dot(X, weights), color='orange')\n",
    "plt.title('linear Regression')\n",
    "\n",
    "#Logistic Regression\n",
    "plt.subplot(122)\n",
    "plt.scatter(X[:, 1], y_prob)\n",
    "plt.plot(X[:, 1], sigmoid(np.dot(X, log_w)))\n",
    "plt.title('logistic Regression')\n",
    "\n",
    "plt.show()"
   ]
  },
  {
   "cell_type": "markdown",
   "id": "89ea48e9",
   "metadata": {},
   "source": [
    "Plots:\n",
    "- From the plots it is hard to tell what regression fit the data better \n",
    "- Both plots miss points in the data \n",
    "- The logistic regression doesn;t seem as great of fit from the graph\n",
    "\n",
    "Graph: \n",
    "- The logistic error I calculated is smaller than the MSE \n",
    "- I feel the linear error I calculated seems a bit high in comparison to the logisitc error\n"
   ]
  },
  {
   "cell_type": "markdown",
   "id": "47dc92ea",
   "metadata": {},
   "source": [
    "### Problem 2: Ensembles [16 pts]\n",
    "\n",
    "Use the dataset provided by scipy for this problem. Feel free to use the sklearn implementation to train weak learners and numpy for any vector/matrix operations. To control randomness, you can set random_state where applicable to see the random number generator.\n",
    "\n",
    "**(2a)** Combine your favorite weak learner with bagging to classify the data. [4 pts]"
   ]
  },
  {
   "cell_type": "code",
   "execution_count": 126,
   "id": "d1ac17df",
   "metadata": {},
   "outputs": [
    {
     "data": {
      "text/html": [
       "<style>#sk-container-id-17 {color: black;background-color: white;}#sk-container-id-17 pre{padding: 0;}#sk-container-id-17 div.sk-toggleable {background-color: white;}#sk-container-id-17 label.sk-toggleable__label {cursor: pointer;display: block;width: 100%;margin-bottom: 0;padding: 0.3em;box-sizing: border-box;text-align: center;}#sk-container-id-17 label.sk-toggleable__label-arrow:before {content: \"▸\";float: left;margin-right: 0.25em;color: #696969;}#sk-container-id-17 label.sk-toggleable__label-arrow:hover:before {color: black;}#sk-container-id-17 div.sk-estimator:hover label.sk-toggleable__label-arrow:before {color: black;}#sk-container-id-17 div.sk-toggleable__content {max-height: 0;max-width: 0;overflow: hidden;text-align: left;background-color: #f0f8ff;}#sk-container-id-17 div.sk-toggleable__content pre {margin: 0.2em;color: black;border-radius: 0.25em;background-color: #f0f8ff;}#sk-container-id-17 input.sk-toggleable__control:checked~div.sk-toggleable__content {max-height: 200px;max-width: 100%;overflow: auto;}#sk-container-id-17 input.sk-toggleable__control:checked~label.sk-toggleable__label-arrow:before {content: \"▾\";}#sk-container-id-17 div.sk-estimator input.sk-toggleable__control:checked~label.sk-toggleable__label {background-color: #d4ebff;}#sk-container-id-17 div.sk-label input.sk-toggleable__control:checked~label.sk-toggleable__label {background-color: #d4ebff;}#sk-container-id-17 input.sk-hidden--visually {border: 0;clip: rect(1px 1px 1px 1px);clip: rect(1px, 1px, 1px, 1px);height: 1px;margin: -1px;overflow: hidden;padding: 0;position: absolute;width: 1px;}#sk-container-id-17 div.sk-estimator {font-family: monospace;background-color: #f0f8ff;border: 1px dotted black;border-radius: 0.25em;box-sizing: border-box;margin-bottom: 0.5em;}#sk-container-id-17 div.sk-estimator:hover {background-color: #d4ebff;}#sk-container-id-17 div.sk-parallel-item::after {content: \"\";width: 100%;border-bottom: 1px solid gray;flex-grow: 1;}#sk-container-id-17 div.sk-label:hover label.sk-toggleable__label {background-color: #d4ebff;}#sk-container-id-17 div.sk-serial::before {content: \"\";position: absolute;border-left: 1px solid gray;box-sizing: border-box;top: 0;bottom: 0;left: 50%;z-index: 0;}#sk-container-id-17 div.sk-serial {display: flex;flex-direction: column;align-items: center;background-color: white;padding-right: 0.2em;padding-left: 0.2em;position: relative;}#sk-container-id-17 div.sk-item {position: relative;z-index: 1;}#sk-container-id-17 div.sk-parallel {display: flex;align-items: stretch;justify-content: center;background-color: white;position: relative;}#sk-container-id-17 div.sk-item::before, #sk-container-id-17 div.sk-parallel-item::before {content: \"\";position: absolute;border-left: 1px solid gray;box-sizing: border-box;top: 0;bottom: 0;left: 50%;z-index: -1;}#sk-container-id-17 div.sk-parallel-item {display: flex;flex-direction: column;z-index: 1;position: relative;background-color: white;}#sk-container-id-17 div.sk-parallel-item:first-child::after {align-self: flex-end;width: 50%;}#sk-container-id-17 div.sk-parallel-item:last-child::after {align-self: flex-start;width: 50%;}#sk-container-id-17 div.sk-parallel-item:only-child::after {width: 0;}#sk-container-id-17 div.sk-dashed-wrapped {border: 1px dashed gray;margin: 0 0.4em 0.5em 0.4em;box-sizing: border-box;padding-bottom: 0.4em;background-color: white;}#sk-container-id-17 div.sk-label label {font-family: monospace;font-weight: bold;display: inline-block;line-height: 1.2em;}#sk-container-id-17 div.sk-label-container {text-align: center;}#sk-container-id-17 div.sk-container {/* jupyter's `normalize.less` sets `[hidden] { display: none; }` but bootstrap.min.css set `[hidden] { display: none !important; }` so we also need the `!important` here to be able to override the default hidden behavior on the sphinx rendered scikit-learn.org. See: https://github.com/scikit-learn/scikit-learn/issues/21755 */display: inline-block !important;position: relative;}#sk-container-id-17 div.sk-text-repr-fallback {display: none;}</style><div id=\"sk-container-id-17\" class=\"sk-top-container\"><div class=\"sk-text-repr-fallback\"><pre>BaggingClassifier(base_estimator=GaussianNB(), n_estimators=20)</pre><b>In a Jupyter environment, please rerun this cell to show the HTML representation or trust the notebook. <br />On GitHub, the HTML representation is unable to render, please try loading this page with nbviewer.org.</b></div><div class=\"sk-container\" hidden><div class=\"sk-item sk-dashed-wrapped\"><div class=\"sk-label-container\"><div class=\"sk-label sk-toggleable\"><input class=\"sk-toggleable__control sk-hidden--visually\" id=\"sk-estimator-id-49\" type=\"checkbox\" ><label for=\"sk-estimator-id-49\" class=\"sk-toggleable__label sk-toggleable__label-arrow\">BaggingClassifier</label><div class=\"sk-toggleable__content\"><pre>BaggingClassifier(base_estimator=GaussianNB(), n_estimators=20)</pre></div></div></div><div class=\"sk-parallel\"><div class=\"sk-parallel-item\"><div class=\"sk-item\"><div class=\"sk-label-container\"><div class=\"sk-label sk-toggleable\"><input class=\"sk-toggleable__control sk-hidden--visually\" id=\"sk-estimator-id-50\" type=\"checkbox\" ><label for=\"sk-estimator-id-50\" class=\"sk-toggleable__label sk-toggleable__label-arrow\">base_estimator: GaussianNB</label><div class=\"sk-toggleable__content\"><pre>GaussianNB()</pre></div></div></div><div class=\"sk-serial\"><div class=\"sk-item\"><div class=\"sk-estimator sk-toggleable\"><input class=\"sk-toggleable__control sk-hidden--visually\" id=\"sk-estimator-id-51\" type=\"checkbox\" ><label for=\"sk-estimator-id-51\" class=\"sk-toggleable__label sk-toggleable__label-arrow\">GaussianNB</label><div class=\"sk-toggleable__content\"><pre>GaussianNB()</pre></div></div></div></div></div></div></div></div></div></div>"
      ],
      "text/plain": [
       "BaggingClassifier(base_estimator=GaussianNB(), n_estimators=20)"
      ]
     },
     "execution_count": 126,
     "metadata": {},
     "output_type": "execute_result"
    }
   ],
   "source": [
    "from sklearn.datasets import load_breast_cancer\n",
    "from sklearn.model_selection import train_test_split\n",
    "from sklearn.ensemble import BaggingClassifier\n",
    "from sklearn.neighbors import KNeighborsClassifier\n",
    "from sklearn.naive_bayes import GaussianNB\n",
    "\n",
    "data, target = load_breast_cancer(return_X_y=True)\n",
    "training_data, test_data, training_labels, test_labels = train_test_split(data, target,\n",
    "                                                                          test_size=0.1, random_state=1)\n",
    "\n",
    "#TODO: implement bagging with your choice of weak learner\n",
    "#Naives Bayes \n",
    "w_l = GaussianNB()\n",
    "bagging =  BaggingClassifier(base_estimator=weak_learn, n_estimators=20)\n",
    "bagging.fit(training_data, training_labels)\n"
   ]
  },
  {
   "cell_type": "markdown",
   "id": "2c30d370",
   "metadata": {},
   "source": [
    "**(2b)** Combine the same weak learner from (2a) with AdaBoost to fit the data. [6 pts]"
   ]
  },
  {
   "cell_type": "code",
   "execution_count": 127,
   "id": "3e7c5ae3",
   "metadata": {},
   "outputs": [
    {
     "data": {
      "text/html": [
       "<style>#sk-container-id-18 {color: black;background-color: white;}#sk-container-id-18 pre{padding: 0;}#sk-container-id-18 div.sk-toggleable {background-color: white;}#sk-container-id-18 label.sk-toggleable__label {cursor: pointer;display: block;width: 100%;margin-bottom: 0;padding: 0.3em;box-sizing: border-box;text-align: center;}#sk-container-id-18 label.sk-toggleable__label-arrow:before {content: \"▸\";float: left;margin-right: 0.25em;color: #696969;}#sk-container-id-18 label.sk-toggleable__label-arrow:hover:before {color: black;}#sk-container-id-18 div.sk-estimator:hover label.sk-toggleable__label-arrow:before {color: black;}#sk-container-id-18 div.sk-toggleable__content {max-height: 0;max-width: 0;overflow: hidden;text-align: left;background-color: #f0f8ff;}#sk-container-id-18 div.sk-toggleable__content pre {margin: 0.2em;color: black;border-radius: 0.25em;background-color: #f0f8ff;}#sk-container-id-18 input.sk-toggleable__control:checked~div.sk-toggleable__content {max-height: 200px;max-width: 100%;overflow: auto;}#sk-container-id-18 input.sk-toggleable__control:checked~label.sk-toggleable__label-arrow:before {content: \"▾\";}#sk-container-id-18 div.sk-estimator input.sk-toggleable__control:checked~label.sk-toggleable__label {background-color: #d4ebff;}#sk-container-id-18 div.sk-label input.sk-toggleable__control:checked~label.sk-toggleable__label {background-color: #d4ebff;}#sk-container-id-18 input.sk-hidden--visually {border: 0;clip: rect(1px 1px 1px 1px);clip: rect(1px, 1px, 1px, 1px);height: 1px;margin: -1px;overflow: hidden;padding: 0;position: absolute;width: 1px;}#sk-container-id-18 div.sk-estimator {font-family: monospace;background-color: #f0f8ff;border: 1px dotted black;border-radius: 0.25em;box-sizing: border-box;margin-bottom: 0.5em;}#sk-container-id-18 div.sk-estimator:hover {background-color: #d4ebff;}#sk-container-id-18 div.sk-parallel-item::after {content: \"\";width: 100%;border-bottom: 1px solid gray;flex-grow: 1;}#sk-container-id-18 div.sk-label:hover label.sk-toggleable__label {background-color: #d4ebff;}#sk-container-id-18 div.sk-serial::before {content: \"\";position: absolute;border-left: 1px solid gray;box-sizing: border-box;top: 0;bottom: 0;left: 50%;z-index: 0;}#sk-container-id-18 div.sk-serial {display: flex;flex-direction: column;align-items: center;background-color: white;padding-right: 0.2em;padding-left: 0.2em;position: relative;}#sk-container-id-18 div.sk-item {position: relative;z-index: 1;}#sk-container-id-18 div.sk-parallel {display: flex;align-items: stretch;justify-content: center;background-color: white;position: relative;}#sk-container-id-18 div.sk-item::before, #sk-container-id-18 div.sk-parallel-item::before {content: \"\";position: absolute;border-left: 1px solid gray;box-sizing: border-box;top: 0;bottom: 0;left: 50%;z-index: -1;}#sk-container-id-18 div.sk-parallel-item {display: flex;flex-direction: column;z-index: 1;position: relative;background-color: white;}#sk-container-id-18 div.sk-parallel-item:first-child::after {align-self: flex-end;width: 50%;}#sk-container-id-18 div.sk-parallel-item:last-child::after {align-self: flex-start;width: 50%;}#sk-container-id-18 div.sk-parallel-item:only-child::after {width: 0;}#sk-container-id-18 div.sk-dashed-wrapped {border: 1px dashed gray;margin: 0 0.4em 0.5em 0.4em;box-sizing: border-box;padding-bottom: 0.4em;background-color: white;}#sk-container-id-18 div.sk-label label {font-family: monospace;font-weight: bold;display: inline-block;line-height: 1.2em;}#sk-container-id-18 div.sk-label-container {text-align: center;}#sk-container-id-18 div.sk-container {/* jupyter's `normalize.less` sets `[hidden] { display: none; }` but bootstrap.min.css set `[hidden] { display: none !important; }` so we also need the `!important` here to be able to override the default hidden behavior on the sphinx rendered scikit-learn.org. See: https://github.com/scikit-learn/scikit-learn/issues/21755 */display: inline-block !important;position: relative;}#sk-container-id-18 div.sk-text-repr-fallback {display: none;}</style><div id=\"sk-container-id-18\" class=\"sk-top-container\"><div class=\"sk-text-repr-fallback\"><pre>AdaBoostClassifier(base_estimator=GaussianNB(), n_estimators=20)</pre><b>In a Jupyter environment, please rerun this cell to show the HTML representation or trust the notebook. <br />On GitHub, the HTML representation is unable to render, please try loading this page with nbviewer.org.</b></div><div class=\"sk-container\" hidden><div class=\"sk-item sk-dashed-wrapped\"><div class=\"sk-label-container\"><div class=\"sk-label sk-toggleable\"><input class=\"sk-toggleable__control sk-hidden--visually\" id=\"sk-estimator-id-52\" type=\"checkbox\" ><label for=\"sk-estimator-id-52\" class=\"sk-toggleable__label sk-toggleable__label-arrow\">AdaBoostClassifier</label><div class=\"sk-toggleable__content\"><pre>AdaBoostClassifier(base_estimator=GaussianNB(), n_estimators=20)</pre></div></div></div><div class=\"sk-parallel\"><div class=\"sk-parallel-item\"><div class=\"sk-item\"><div class=\"sk-label-container\"><div class=\"sk-label sk-toggleable\"><input class=\"sk-toggleable__control sk-hidden--visually\" id=\"sk-estimator-id-53\" type=\"checkbox\" ><label for=\"sk-estimator-id-53\" class=\"sk-toggleable__label sk-toggleable__label-arrow\">base_estimator: GaussianNB</label><div class=\"sk-toggleable__content\"><pre>GaussianNB()</pre></div></div></div><div class=\"sk-serial\"><div class=\"sk-item\"><div class=\"sk-estimator sk-toggleable\"><input class=\"sk-toggleable__control sk-hidden--visually\" id=\"sk-estimator-id-54\" type=\"checkbox\" ><label for=\"sk-estimator-id-54\" class=\"sk-toggleable__label sk-toggleable__label-arrow\">GaussianNB</label><div class=\"sk-toggleable__content\"><pre>GaussianNB()</pre></div></div></div></div></div></div></div></div></div></div>"
      ],
      "text/plain": [
       "AdaBoostClassifier(base_estimator=GaussianNB(), n_estimators=20)"
      ]
     },
     "execution_count": 127,
     "metadata": {},
     "output_type": "execute_result"
    }
   ],
   "source": [
    "from sklearn.datasets import load_breast_cancer\n",
    "from sklearn.model_selection import train_test_split\n",
    "from sklearn.ensemble import AdaBoostClassifier\n",
    "from sklearn.neighbors import KNeighborsClassifier\n",
    "\n",
    "# TODO: implement AdaBoost with weak learner\n",
    "adaboost = AdaBoostClassifier(base_estimator=w_l, n_estimators=20)\n",
    "adaboost.fit(training_data, training_labels)\n"
   ]
  },
  {
   "cell_type": "markdown",
   "id": "f7dcc9d1",
   "metadata": {},
   "source": [
    "**(2c)** Evaluate the combined models from (2a) and (2b) on the test partition and compute average accuracy. [2 pts]"
   ]
  },
  {
   "cell_type": "code",
   "execution_count": 128,
   "id": "4600eacf",
   "metadata": {},
   "outputs": [
    {
     "name": "stdout",
     "output_type": "stream",
     "text": [
      "Average Accuracy: 0.7456140350877193\n"
     ]
    }
   ],
   "source": [
    "from sklearn.datasets import load_breast_cancer\n",
    "from sklearn.model_selection import train_test_split\n",
    "from scipy.stats import mode\n",
    "from sklearn.utils.extmath import weighted_mode\n",
    "\n",
    "# TODO: compute average accuracies\n",
    "#bagging accuracy\n",
    "bagging_accuracy = bagging.score(test_data, test_labels)\n",
    "\n",
    "#ada accuracy\n",
    "ada_accuracy = adaboost.score(test_data, test_labels)\n",
    "\n",
    "#average accuracy\n",
    "average_accuracy = np.mean([bagging_accuracy, ada_accuracy])\n",
    "print(\"Average Accuracy:\", average_accuracy)"
   ]
  },
  {
   "cell_type": "markdown",
   "id": "081e1382",
   "metadata": {},
   "source": [
    "**(2d)** Find the per-model accuracy for both your bagging and boosting ensembles. [2 pts]"
   ]
  },
  {
   "cell_type": "code",
   "execution_count": 129,
   "id": "e018e6cb",
   "metadata": {
    "scrolled": true
   },
   "outputs": [
    {
     "name": "stdout",
     "output_type": "stream",
     "text": [
      "Bagging Accuracy: 0.9473684210526315\n",
      "AdaBoost Accuracy: 0.543859649122807\n"
     ]
    }
   ],
   "source": [
    "# TODO: compute per-model accuracies for weak learners\n",
    "#print bagging accuracy\n",
    "print(\"Bagging Accuracy:\", bagging_accuracy)\n",
    "\n",
    "#print adaboost accuracy\n",
    "print(\"AdaBoost Accuracy:\", ada_accuracy)"
   ]
  },
  {
   "cell_type": "markdown",
   "id": "a58a1778",
   "metadata": {},
   "source": [
    "**(2e)** What, if any, differences do you observe in performance between using bagging and AdaBoost? Between your weak classifiers and ensembles? Is this result surprising? [2 pts]"
   ]
  },
  {
   "cell_type": "markdown",
   "id": "fa0b0ec3",
   "metadata": {},
   "source": [
    "- The accuracy for bagging is higher than AdaBoost\n",
    "- You can see the Adaboost accuracy is significantly lower, this result was very surprising to me\n"
   ]
  }
 ],
 "metadata": {
  "kernelspec": {
   "display_name": "Python 3 (ipykernel)",
   "language": "python",
   "name": "python3"
  },
  "language_info": {
   "codemirror_mode": {
    "name": "ipython",
    "version": 3
   },
   "file_extension": ".py",
   "mimetype": "text/x-python",
   "name": "python",
   "nbconvert_exporter": "python",
   "pygments_lexer": "ipython3",
   "version": "3.9.12"
  }
 },
 "nbformat": 4,
 "nbformat_minor": 5
}
